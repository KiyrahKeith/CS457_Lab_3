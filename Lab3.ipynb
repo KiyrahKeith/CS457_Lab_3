{
 "cells": [
  {
   "cell_type": "markdown",
   "id": "488b8266",
   "metadata": {},
   "source": [
    "# Lab Assignment: Building a Neural Network from Scratch\n",
    "\n",
    "### Objective\n",
    "This lab guides you through the implementation of a simple feedforward neural network from scratch. \n",
    "By completing this lab, you will:\n",
    "- Initialize a neural network with weights and biases.\n",
    "- Compute the weighted sum at each node.\n",
    "- Apply activation functions for node outputs.\n",
    "- Perform forward propagation to compute predictions.\n",
    "- Implement backpropagation to compute gradients.\n",
    "- Update weights using gradients to minimize the loss."
   ]
  },
  {
   "cell_type": "markdown",
   "id": "2668a14e",
   "metadata": {},
   "source": [
    "## Step 1: Initialize the Network"
   ]
  },
  {
   "cell_type": "code",
   "execution_count": 97,
   "id": "396df339",
   "metadata": {},
   "outputs": [
    {
     "name": "stdout",
     "output_type": "stream",
     "text": [
      "Kiyrah Keith + Initialized Network: {'layer_1': {'node_1': {'weights': array([0.37, 0.95, 0.73]), 'bias': array([0.6])}, 'node_2': {'weights': array([0.16, 0.16, 0.06]), 'bias': array([0.87])}, 'node_3': {'weights': array([0.6 , 0.71, 0.02]), 'bias': array([0.97])}, 'node_4': {'weights': array([0.83, 0.21, 0.18]), 'bias': array([0.18])}}, 'layer_2': {'node_1': {'weights': array([0.3 , 0.52, 0.43, 0.29]), 'bias': array([0.61])}, 'node_2': {'weights': array([0.14, 0.29, 0.37, 0.46]), 'bias': array([0.79])}, 'node_3': {'weights': array([0.2 , 0.51, 0.59, 0.05]), 'bias': array([0.61])}}, 'output': {'node_1': {'weights': array([0.17, 0.07, 0.95]), 'bias': array([0.97])}}}\n"
     ]
    }
   ],
   "source": [
    "import numpy as np\n",
    "np.random.seed(42) # For reproducibility\n",
    "def initialize_network(input_size, hidden_layers, output_size):\n",
    "    num_nodes_previous = input_size\n",
    "    network = {} # Initialize the network as an empty dictionary\n",
    "    \n",
    "    # Your code should contain the weights and biases\n",
    "    for layer in range(len(hidden_layers)+1):\n",
    "        # name the layer\n",
    "        if layer == len(hidden_layers):\n",
    "            layer_name = 'output'\n",
    "            num_nodes = output_size\n",
    "        else:\n",
    "            layer_name = 'layer_{}'.format(layer+1)\n",
    "            num_nodes = hidden_layers[layer]\n",
    "\n",
    "        # initialize weights and biases\n",
    "        network[layer_name] = {}\n",
    "        for node in range(num_nodes):\n",
    "            node_name = 'node_{}'.format(node+1)\n",
    "            network[layer_name][node_name] = {\n",
    "                'weights':np.around(np.random.uniform(size=num_nodes_previous), decimals=2),\n",
    "                'bias':np.around(np.random.uniform(size=1), decimals=2)\n",
    "            }\n",
    "            \n",
    "        num_nodes_previous = num_nodes\n",
    "\n",
    "\n",
    "    return network\n",
    "\n",
    "    \n",
    " \n",
    "\n",
    "# Initialize a network with 3 inputs, 2 hidden layers (4 and 3 nodes), and 1 output node\n",
    "network = initialize_network(3, [4, 3], 1)\n",
    "print(\"Kiyrah Keith + Initialized Network:\", network)"
   ]
  },
  {
   "cell_type": "markdown",
   "id": "3ecfdd84",
   "metadata": {},
   "source": [
    "## Step 2: Compute Weighted Sum"
   ]
  },
  {
   "cell_type": "code",
   "execution_count": 99,
   "id": "66c4ad58",
   "metadata": {},
   "outputs": [
    {
     "name": "stdout",
     "output_type": "stream",
     "text": [
      "Kiyrah Keith + Weighted Sum: [1.048]\n"
     ]
    }
   ],
   "source": [
    "def compute_weighted_sum(inputs, weights, bias):\n",
    "    # Please numpy dot to calcuate the compute weighted with linear \n",
    "    return np.sum(np.dot(inputs, weights)) + bias\n",
    "    \n",
    "\n",
    "# Test weighted sum\n",
    "inputs = np.array([[0.5, 0.2, 0.1]])\n",
    "layer = network['layer_1']  # First layer\n",
    "\n",
    "Z = compute_weighted_sum(inputs, layer['node_1']['weights'], layer['node_1']['bias'])\n",
    "print(\"Kiyrah Keith + Weighted Sum:\", Z)"
   ]
  },
  {
   "cell_type": "markdown",
   "id": "7d82553f",
   "metadata": {},
   "source": [
    "## Step 3: Compute Node Activation"
   ]
  },
  {
   "cell_type": "code",
   "execution_count": 101,
   "id": "36b00bf0",
   "metadata": {},
   "outputs": [
    {
     "name": "stdout",
     "output_type": "stream",
     "text": [
      "Kiyrah Keith + Activation: [0.74039066]\n"
     ]
    }
   ],
   "source": [
    "def sigmoid(Z):\n",
    "    return 1 / (1+np.exp(-Z)) # Return the sigmoid function calculation\n",
    "\n",
    "\n",
    "def sigmoid_derivative(A):\n",
    "    return A * (1-A) # Return the calculation of the sigmoid derivative\n",
    "\n",
    "\n",
    "# Compute activation for the weighted sum\n",
    "A = sigmoid(Z)\n",
    "print(\"Kiyrah Keith + Activation:\", A)"
   ]
  },
  {
   "cell_type": "markdown",
   "id": "769f9c55",
   "metadata": {},
   "source": [
    "## Step 4: Perform Forward Propagation"
   ]
  },
  {
   "cell_type": "code",
   "execution_count": 103,
   "id": "5d2e9d28",
   "metadata": {},
   "outputs": [
    {
     "name": "stdout",
     "output_type": "stream",
     "text": [
      "[array([[0.5, 0.2, 0.1]]), array([0.74039066, 0.7286927 , 0.80439608, 0.65813632]), array([0.85167349, 0.84623151, 0.83715521]), array([0.87753786])]\n",
      "Kiyrah Keith + Final Output: [0.87753786]\n"
     ]
    }
   ],
   "source": [
    "def forward_propagation(inputs, network):\n",
    "    activations = [inputs] # Begin with the input layer\n",
    "    for layer in network.values(): # Loop through each layer in the network\n",
    "        z = []\n",
    "        a = []\n",
    "        for node in layer.values(): # Loop through each node in the layer\n",
    "            # Calculate Z\n",
    "            z_value = np.dot(activations[-1], node['weights']) + node['bias']\n",
    "            z.append(z_value)\n",
    "            a.append(sigmoid(z_value)) # Calculate activation using sigmoid\n",
    "        activations.append(np.array(a).flatten())\n",
    "    return activations\n",
    "\n",
    "\n",
    "# Perform forward propagation\n",
    "activations = forward_propagation(inputs, network)\n",
    "print(activations)\n",
    "print(\"Kiyrah Keith + Final Output:\", activations[-1])"
   ]
  },
  {
   "cell_type": "markdown",
   "id": "e342f58d",
   "metadata": {},
   "source": [
    "## Step 5: Backpropagation"
   ]
  },
  {
   "cell_type": "code",
   "execution_count": 105,
   "id": "1ec4d75a",
   "metadata": {},
   "outputs": [
    {
     "name": "stdout",
     "output_type": "stream",
     "text": [
      "Kiyrah Keith + Gradients: {'output': array([-0.01316041]), 'layer_2': array([-0.00028262, -0.00011987, -0.00170441]), 'layer_1': array([-8.50445351e-05, -2.07777460e-04, -1.84324445e-04, -5.00211985e-05])}\n"
     ]
    }
   ],
   "source": [
    "def backpropagation(network, activations, y_true):\n",
    "    error = sigmoid(activations[-1]) - y_true[0]\n",
    "    \n",
    "    gradients = {} # Create an empty list to store the gradients\n",
    "    delta_output = (activations[-1] - y_true) * sigmoid_derivative(activations[-1])\n",
    "    gradients['output'] = delta_output\n",
    "    \n",
    "    # Loop through each layer in the network, moving backwards from the output\n",
    "    for layer_idx in reversed(range(len(network))):\n",
    "        #Get the name of the current layer\n",
    "        layer_name = list(network.keys())[layer_idx]\n",
    "\n",
    "        if layer_name == 'output':\n",
    "            delta = gradients['output']\n",
    "        else:\n",
    "            # compute the delta for each hidden layer\n",
    "            next_layer_name = list(network.keys())[layer_idx + 1]\n",
    "            next_layer = network[next_layer_name]\n",
    "            weight_matrix = np.array([node['weights'] for node in next_layer.values()])\n",
    "            delta = np.dot(delta, weight_matrix) * sigmoid_derivative(activations[layer_idx+1])\n",
    "\n",
    "        gradients[layer_name] = delta[0,]\n",
    "        \n",
    "    return gradients\n",
    "\n",
    "\n",
    "# Compute gradients\n",
    "y_true = np.array([[1]])  # Example target output\n",
    "gradients = backpropagation(network, activations, y_true)\n",
    "print(\"Kiyrah Keith + Gradients:\", gradients)"
   ]
  },
  {
   "cell_type": "code",
   "execution_count": null,
   "id": "0d5525ec-c345-435b-a647-398ebe6f04ef",
   "metadata": {},
   "outputs": [],
   "source": []
  },
  {
   "cell_type": "markdown",
   "id": "d6b81797-9f82-493a-a509-b1360f04071c",
   "metadata": {},
   "source": [
    "## Step 6: Update Weights"
   ]
  },
  {
   "cell_type": "code",
   "execution_count": 107,
   "id": "42edd943-a3e0-4b4d-ad4e-6ec2777fc3f3",
   "metadata": {},
   "outputs": [
    {
     "data": {
      "text/plain": [
       "{'output': array([-0.01316041]),\n",
       " 'layer_2': array([-0.00028262, -0.00011987, -0.00170441]),\n",
       " 'layer_1': array([-8.50445351e-05, -2.07777460e-04, -1.84324445e-04, -5.00211985e-05])}"
      ]
     },
     "execution_count": 107,
     "metadata": {},
     "output_type": "execute_result"
    }
   ],
   "source": [
    "gradients\n"
   ]
  },
  {
   "cell_type": "code",
   "execution_count": 109,
   "id": "dc8b9eda-6428-47a6-bbb4-d79c1369c64d",
   "metadata": {},
   "outputs": [
    {
     "data": {
      "text/plain": [
       "[array([[0.5, 0.2, 0.1]]),\n",
       " array([0.74039066, 0.7286927 , 0.80439608, 0.65813632]),\n",
       " array([0.85167349, 0.84623151, 0.83715521]),\n",
       " array([0.87753786])]"
      ]
     },
     "execution_count": 109,
     "metadata": {},
     "output_type": "execute_result"
    }
   ],
   "source": [
    "activations\n"
   ]
  },
  {
   "cell_type": "code",
   "execution_count": 111,
   "id": "afd0ecae-897c-4ae4-b7b0-59ae0593f737",
   "metadata": {},
   "outputs": [
    {
     "data": {
      "text/plain": [
       "{'layer_1': {'node_1': {'weights': array([0.37, 0.95, 0.73]),\n",
       "   'bias': array([0.6])},\n",
       "  'node_2': {'weights': array([0.16, 0.16, 0.06]), 'bias': array([0.87])},\n",
       "  'node_3': {'weights': array([0.6 , 0.71, 0.02]), 'bias': array([0.97])},\n",
       "  'node_4': {'weights': array([0.83, 0.21, 0.18]), 'bias': array([0.18])}},\n",
       " 'layer_2': {'node_1': {'weights': array([0.3 , 0.52, 0.43, 0.29]),\n",
       "   'bias': array([0.61])},\n",
       "  'node_2': {'weights': array([0.14, 0.29, 0.37, 0.46]),\n",
       "   'bias': array([0.79])},\n",
       "  'node_3': {'weights': array([0.2 , 0.51, 0.59, 0.05]),\n",
       "   'bias': array([0.61])}},\n",
       " 'output': {'node_1': {'weights': array([0.17, 0.07, 0.95]),\n",
       "   'bias': array([0.97])}}}"
      ]
     },
     "execution_count": 111,
     "metadata": {},
     "output_type": "execute_result"
    }
   ],
   "source": [
    "network"
   ]
  },
  {
   "cell_type": "code",
   "execution_count": 113,
   "id": "33990e4e-9a02-4728-9ff5-fc41e7ef42be",
   "metadata": {},
   "outputs": [
    {
     "name": "stdout",
     "output_type": "stream",
     "text": [
      "Kiyrah Keith + Updated Network: {'layer_1': {'node_1': {'weights': array([0.37003956, 0.95003956, 0.73003956]), 'bias': array([0.60005272])}, 'node_2': {'weights': array([0.16003956, 0.16003956, 0.06003956]), 'bias': array([0.87005272])}, 'node_3': {'weights': array([0.60003956, 0.71003956, 0.02003956]), 'bias': array([0.97005272])}, 'node_4': {'weights': array([0.83003956, 0.21003956, 0.18003956]), 'bias': array([0.18005272])}}, 'layer_2': {'node_1': {'weights': array([0.3001769, 0.5201769, 0.4301769, 0.2901769]), 'bias': array([0.61021069])}, 'node_2': {'weights': array([0.1401769, 0.2901769, 0.3701769, 0.4601769]), 'bias': array([0.79021069])}, 'node_3': {'weights': array([0.2001769, 0.5101769, 0.5901769, 0.0501769]), 'bias': array([0.61021069])}}, 'output': {'node_1': {'weights': array([0.17115488, 0.07115488, 0.95115488]), 'bias': array([0.97131604])}}}\n"
     ]
    }
   ],
   "source": [
    "def update_weights(network, gradients, learning_rate):\n",
    "    # Hints: weights -= learning_rate * 'dW'\n",
    "    # Hints: biases -= learning_rate * 'db'\n",
    "    for layer_idx in reversed(range(len(network))):\n",
    "        layer_name = list(network.keys())[layer_idx]\n",
    "        current_layer = network[layer_name]\n",
    "        \n",
    "    \n",
    "        for node_idx, (node_name, node_data) in enumerate(current_layer.items()):\n",
    "            # Get the activations from the previous layer (or input for the first hidden layer)\n",
    "            a_prev = activations[layer_idx+1]\n",
    "\n",
    "            # Compute the gradients for weights (dW) and biases (db)\n",
    "            dW = np.dot(a_prev.T, gradients[layer_name])  # Gradient of weights\n",
    "            db = np.sum(gradients[layer_name], axis=0, keepdims=True)           # Gradient of biases\n",
    "\n",
    "            \n",
    "            # Update weights and biases using gradient descent\n",
    "            current_layer[node_name]['weights'] -= learning_rate * dW  # Update weights\n",
    "            current_layer[node_name]['bias'] -= learning_rate * db     # Update bias\n",
    "\n",
    "  \n",
    "# Update weights with a learning rate of 0.1\n",
    "# print(\"Original network: \", network)\n",
    "update_weights(network, gradients, learning_rate=0.1)\n",
    "print(\"Kiyrah Keith + Updated Network:\", network)"
   ]
  },
  {
   "cell_type": "markdown",
   "id": "ed55add1",
   "metadata": {},
   "source": [
    "## Step 7: Visualizing Loss Changes"
   ]
  },
  {
   "cell_type": "code",
   "execution_count": 115,
   "id": "9fe355dc",
   "metadata": {},
   "outputs": [],
   "source": [
    "# Use MSE to compute the loss \n",
    "def compute_loss(y_true, y_pred):\n",
    "    return np.mean((y_true - y_pred) ** 2)\n"
   ]
  },
  {
   "cell_type": "code",
   "execution_count": 117,
   "id": "f7270921",
   "metadata": {},
   "outputs": [
    {
     "data": {
      "image/png": "[encoded data removed]",
      "text/plain": [
       "<Figure size 640x480 with 1 Axes>"
      ]
     },
     "metadata": {},
     "output_type": "display_data"
    }
   ],
   "source": [
    "import matplotlib.pyplot as plt\n",
    "\n",
    "# Training Loop\n",
    "losses = []\n",
    "inputs = np.array([[0.5, 0.2, 0.1]])\n",
    "y_true = np.array([[1]])\n",
    "learning_rate = 0.5\n",
    "\n",
    "for iteration in range(100):\n",
    "    # provide your code\n",
    "    # Hints: forward_propagation function with inputs network\n",
    "    #        compute_loss for y_true and activations[-1]\n",
    "    #        add loss to losses\n",
    "    activations = forward_propagation(inputs, network)\n",
    "\n",
    "    loss = compute_loss(y_true, activations[-1])\n",
    "    losses.append(loss)\n",
    "\n",
    "    # gradients = backpropagation function\n",
    "    # update_weights\n",
    "    gradients = backpropagation(network, activations, y_true)\n",
    "    update_weights(network, gradients, learning_rate)\n",
    "\n",
    "    \n",
    "    \n",
    "# Plot Loss and rerun all cells\n",
    "plt.plot(losses)\n",
    "plt.title(\"Kiyrah Keith + Loss Before and After Weight Updates\")\n",
    "plt.xlabel(\"Iterations\")\n",
    "plt.ylabel(\"Loss\")\n",
    "plt.show()\n"
   ]
  },
  {
   "cell_type": "markdown",
   "id": "737f4b49-9f2b-4e5c-8f75-cb102fc858e0",
   "metadata": {},
   "source": [
    "### Step 8: Visualizing Gradients Changes (Graduate students)"
   ]
  },
  {
   "cell_type": "markdown",
   "id": "42a89b54-adeb-4a5d-89b2-1883ce9634a7",
   "metadata": {},
   "source": [
    "Please pick a weight and plot the gradient change\n",
    "\n",
    "You need to point which weight you pick and label it on your graph."
   ]
  },
  {
   "cell_type": "code",
   "execution_count": null,
   "id": "e59f30cb-09da-48e9-9551-d9055db6e26b",
   "metadata": {},
   "outputs": [],
   "source": [
    "# Your code"
   ]
  },
  {
   "cell_type": "code",
   "execution_count": null,
   "id": "57f0d830-3ed2-4d96-9a72-3cca41792c07",
   "metadata": {},
   "outputs": [],
   "source": []
  }
 ],
 "metadata": {
  "kernelspec": {
   "display_name": "Python [conda env:base] *",
   "language": "python",
   "name": "conda-base-py"
  },
  "language_info": {
   "codemirror_mode": {
    "name": "ipython",
    "version": 3
   },
   "file_extension": ".py",
   "mimetype": "text/x-python",
   "name": "python",
   "nbconvert_exporter": "python",
   "pygments_lexer": "ipython3",
   "version": "3.12.7"
  }
 },
 "nbformat": 4,
 "nbformat_minor": 5
}
